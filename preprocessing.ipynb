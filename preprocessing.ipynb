{
 "cells": [
  {
   "cell_type": "code",
   "execution_count": 1,
   "metadata": {},
   "outputs": [],
   "source": [
    "import os\n",
    "from nipype.interfaces import io as nio  # Data i/o\n",
    "from nipype.interfaces import spm as spm  # spm\n",
    "# from nipype.interfaces import matlab as mlab    # how to run matlab\n",
    "from nipype.interfaces import fsl as fsl  # fsl\n",
    "from nipype.interfaces import utility as niu  # utility\n",
    "from nipype.pipeline import engine as pe  # pypeline engine\n",
    "from nipype.algorithms import rapidart as ra  # artifact detection\n",
    "from nipype.algorithms import modelgen as model  # model specification\n",
    "from nipype.algorithms import misc\n",
    "from nipype.interfaces.utility import Rename"
   ]
  },
  {
   "cell_type": "code",
   "execution_count": 6,
   "metadata": {},
   "outputs": [],
   "source": [
    "data_dir = '/home/chan/data/flanker/'\n",
    "subject_list = [\"08\"]\n",
    "runs = [\"1\", \"2\"]\n",
    "infosource = pe.Node(interface=niu.IdentityInterface(fields=['subject_id', 'run']), name='infosource')\n",
    "infosource.iterables = [('subject_id', subject_list), ('run', runs)]"
   ]
  },
  {
   "cell_type": "code",
   "execution_count": 7,
   "metadata": {},
   "outputs": [],
   "source": [
    "datasource = pe.Node(\n",
    "    interface=nio.DataGrabber(\n",
    "        infields=['subject_id', 'run'], outfields=['func', 'anat']),\n",
    "    name='datasource')\n",
    "datasource.inputs.base_directory = data_dir\n",
    "datasource.inputs.template = '*'\n",
    "datasource.inputs.sort_filelist = True\n",
    "\n",
    "datasource.inputs.template_args = {\n",
    "    'anat': [['subject_id', 'subject_id']],\n",
    "    'func': [['subject_id', 'subject_id', 'run']]\n",
    "}\n",
    "\n",
    "datasource.inputs.field_template = {'anat': 'sub-%s/anat/sub-%s_T1w.nii.gz',\n",
    "                            'func': 'sub-%s/func/sub-%s_task-flanker_run-%s_bold.nii.gz'}"
   ]
  },
  {
   "cell_type": "code",
   "execution_count": 8,
   "metadata": {},
   "outputs": [],
   "source": [
    "gzFunc = pe.Node(misc.Gunzip(), name='gzFunc')\n",
    "gzAnat = pe.Node(misc.Gunzip(), name='gzAnat')"
   ]
  },
  {
   "cell_type": "code",
   "execution_count": 9,
   "metadata": {},
   "outputs": [
    {
     "name": "stderr",
     "output_type": "stream",
     "text": [
      "stty: 'standard input': Inappropriate ioctl for device\n"
     ]
    }
   ],
   "source": [
    "realign = pe.Node(interface=spm.Realign(), name=\"realign\")\n",
    "realign.inputs.register_to_mean = True"
   ]
  },
  {
   "cell_type": "code",
   "execution_count": 10,
   "metadata": {},
   "outputs": [],
   "source": [
    "# input: in_files\n",
    "# output: timecorrected_files\n",
    "timeslice = pe.Node(interface=spm.SliceTiming(), name='timeslicing')\n",
    "# timeslice.inputs.in_files = 'functional.nii'\n",
    "timeslice.inputs.num_slices = 40\n",
    "timeslice.inputs.time_repetition = 2\n",
    "# TA = TR - (TR/NUM_SLICES)\n",
    "timeslice.inputs.time_acquisition = 2.-(2./40)\n",
    "timeslice.inputs.slice_order = [i for i in range(1, 40, 2)] + [i for i in range(2, 41, 2)]\n",
    "timeslice.inputs.ref_slice = 1"
   ]
  },
  {
   "cell_type": "code",
   "execution_count": 11,
   "metadata": {},
   "outputs": [],
   "source": [
    "# input: \n",
    "#   source: should be anatomical file\n",
    "#   target: should be mean func file processed after realignment\n",
    "# output: \n",
    "#   coregistered_files\n",
    "#   coregistered_source\n",
    "\n",
    "coregister = pe.Node(interface=spm.Coregister(), name=\"coregister\")\n",
    "# should be estimate and reslice\n",
    "coregister.inputs.jobtype = 'estwrite'"
   ]
  },
  {
   "cell_type": "code",
   "execution_count": 13,
   "metadata": {},
   "outputs": [],
   "source": [
    "# input: channel_files\n",
    "# output: bias_corrected_images, forward_deformation_field\n",
    "segment = pe.Node(interface=spm.NewSegment(), name='segment')\n",
    "# [Inverse, Forward]\n",
    "segment.inputs.write_deformation_fields = [False, True]\n",
    "# prob map, gaussian, native tissue, warped tissue\n",
    "# ((tissue probability map, frame num), Num gaussians, (Native space, dartel imported), (Unmodulated, Modulated))\n",
    "tissue1 = (('/home/chan/tools/spm12/tpm/TPM.nii', 1), 1, (True, False), (False, False))\n",
    "tissue2 = (('/home/chan/tools/spm12/tpm/TPM.nii', 2), 1, (True, False), (False, False))\n",
    "tissue3 = (('/home/chan/tools/spm12/tpm/TPM.nii', 3), 2, (True, False), (False, False))\n",
    "tissue4 = (('/home/chan/tools/spm12/tpm/TPM.nii', 4), 3, (True, False), (False, False))\n",
    "tissue5 = (('/home/chan/tools/spm12/tpm/TPM.nii', 5), 4, (True, False), (False, False))\n",
    "tissue6 = (('/home/chan/tools/spm12/tpm/TPM.nii', 6), 2, (False, False), (False, False))\n",
    "segment.inputs.tissues = [tissue1, tissue2, tissue3, tissue4, tissue5, tissue6]"
   ]
  },
  {
   "cell_type": "code",
   "execution_count": 26,
   "metadata": {},
   "outputs": [],
   "source": [
    "# input: \n",
    "#   deformation_file: from segment deformation\n",
    "#   apply_to_files\n",
    "# output:\n",
    "#   normalized_files\n",
    "#   normalized_image\n",
    "normalize = pe.Node(interface=spm.Normalize12(), name=\"normalize\")\n",
    "# normalize = interface=spm.Normalize12()\n",
    "normalize.inputs.jobtype = 'write'"
   ]
  },
  {
   "cell_type": "code",
   "execution_count": 20,
   "metadata": {},
   "outputs": [
    {
     "name": "stderr",
     "output_type": "stream",
     "text": [
      "stty: 'standard input': Inappropriate ioctl for device\n"
     ]
    },
    {
     "data": {
      "text/plain": [
       "<nipype.interfaces.base.support.InterfaceResult at 0x7faab0e1bbe0>"
      ]
     },
     "execution_count": 20,
     "metadata": {},
     "output_type": "execute_result"
    }
   ],
   "source": [
    "# test\n",
    "# normalize = interface=spm.Normalize12()\n",
    "# normalize.inputs.jobtype = 'write'\n",
    "# normalize.inputs.deformation_file = '/home/chan/spm_test/anat/y_rsub-08_T1w.nii'\n",
    "# normalize.inputs.apply_to_files = '/home/chan/spm_test/func/arsub-08_task-flanker_run-1_bold.nii'\n",
    "# normalize.run()"
   ]
  },
  {
   "cell_type": "code",
   "execution_count": 21,
   "metadata": {},
   "outputs": [],
   "source": [
    "smooth = pe.Node(interface=spm.Smooth(), name=\"smooth\")\n",
    "fwhmlist = [4]\n",
    "smooth.iterables = ('fwhm', fwhmlist)"
   ]
  },
  {
   "cell_type": "code",
   "execution_count": 22,
   "metadata": {},
   "outputs": [],
   "source": [
    "datasink = pe.Node(nio.DataSink(), name='sinker')\n",
    "datasink.inputs.base_directory = os.path.join(os.getcwd(), 'processed')"
   ]
  },
  {
   "cell_type": "code",
   "execution_count": 30,
   "metadata": {},
   "outputs": [
    {
     "name": "stdout",
     "output_type": "stream",
     "text": [
      "230101-16:45:42,820 nipype.workflow INFO:\n",
      "\t Workflow datagrab settings: ['check', 'execution', 'logging', 'monitoring']\n",
      "230101-16:45:42,845 nipype.workflow INFO:\n",
      "\t Running serially.\n",
      "230101-16:45:42,846 nipype.workflow INFO:\n",
      "\t [Node] Setting-up \"datagrab.datasource\" in \"/home/chan/Documents/graduate-essay/tmp/datagrab/_run_1_subject_id_08/datasource\".\n",
      "230101-16:45:42,849 nipype.workflow INFO:\n",
      "\t [Node] Executing \"datasource\" <nipype.interfaces.io.DataGrabber>\n",
      "230101-16:45:42,850 nipype.workflow INFO:\n",
      "\t [Node] Finished \"datasource\", elapsed time 0.000453s.\n",
      "230101-16:45:42,852 nipype.workflow INFO:\n",
      "\t [Node] Setting-up \"datagrab.datasource\" in \"/home/chan/Documents/graduate-essay/tmp/datagrab/_run_2_subject_id_08/datasource\".\n",
      "230101-16:45:42,855 nipype.workflow INFO:\n",
      "\t [Node] Executing \"datasource\" <nipype.interfaces.io.DataGrabber>\n",
      "230101-16:45:42,856 nipype.workflow INFO:\n",
      "\t [Node] Finished \"datasource\", elapsed time 0.000275s.\n",
      "230101-16:45:42,858 nipype.workflow INFO:\n",
      "\t [Node] Setting-up \"datagrab.gzFunc\" in \"/home/chan/Documents/graduate-essay/tmp/datagrab/_run_1_subject_id_08/gzFunc\".\n",
      "230101-16:45:42,859 nipype.workflow INFO:\n",
      "\t [Node] Cached \"datagrab.gzFunc\" - collecting precomputed outputs\n",
      "230101-16:45:42,859 nipype.workflow INFO:\n",
      "\t [Node] \"datagrab.gzFunc\" found cached.\n",
      "230101-16:45:42,860 nipype.workflow INFO:\n",
      "\t [Node] Setting-up \"datagrab.gzAnat\" in \"/home/chan/Documents/graduate-essay/tmp/datagrab/_run_1_subject_id_08/gzAnat\".\n",
      "230101-16:45:42,861 nipype.workflow INFO:\n",
      "\t [Node] Cached \"datagrab.gzAnat\" - collecting precomputed outputs\n",
      "230101-16:45:42,862 nipype.workflow INFO:\n",
      "\t [Node] \"datagrab.gzAnat\" found cached.\n",
      "230101-16:45:42,862 nipype.workflow INFO:\n",
      "\t [Node] Setting-up \"datagrab.gzFunc\" in \"/home/chan/Documents/graduate-essay/tmp/datagrab/_run_2_subject_id_08/gzFunc\".\n",
      "230101-16:45:42,864 nipype.workflow INFO:\n",
      "\t [Node] Cached \"datagrab.gzFunc\" - collecting precomputed outputs\n",
      "230101-16:45:42,864 nipype.workflow INFO:\n",
      "\t [Node] \"datagrab.gzFunc\" found cached.\n",
      "230101-16:45:42,865 nipype.workflow INFO:\n",
      "\t [Node] Setting-up \"datagrab.gzAnat\" in \"/home/chan/Documents/graduate-essay/tmp/datagrab/_run_2_subject_id_08/gzAnat\".\n",
      "230101-16:45:42,867 nipype.workflow INFO:\n",
      "\t [Node] Cached \"datagrab.gzAnat\" - collecting precomputed outputs\n",
      "230101-16:45:42,867 nipype.workflow INFO:\n",
      "\t [Node] \"datagrab.gzAnat\" found cached.\n",
      "230101-16:45:42,868 nipype.workflow INFO:\n",
      "\t [Node] Setting-up \"datagrab.realign\" in \"/home/chan/Documents/graduate-essay/tmp/datagrab/_run_1_subject_id_08/realign\".\n",
      "230101-16:45:42,870 nipype.workflow INFO:\n",
      "\t [Node] Cached \"datagrab.realign\" - collecting precomputed outputs\n",
      "230101-16:45:42,871 nipype.workflow INFO:\n",
      "\t [Node] \"datagrab.realign\" found cached.\n",
      "230101-16:45:42,871 nipype.workflow INFO:\n",
      "\t [Node] Setting-up \"datagrab.realign\" in \"/home/chan/Documents/graduate-essay/tmp/datagrab/_run_2_subject_id_08/realign\".\n",
      "230101-16:45:42,874 nipype.workflow INFO:\n",
      "\t [Node] Cached \"datagrab.realign\" - collecting precomputed outputs\n",
      "230101-16:45:42,874 nipype.workflow INFO:\n",
      "\t [Node] \"datagrab.realign\" found cached.\n",
      "230101-16:45:42,875 nipype.workflow INFO:\n",
      "\t [Node] Setting-up \"datagrab.timeslicing\" in \"/home/chan/Documents/graduate-essay/tmp/datagrab/_run_1_subject_id_08/timeslicing\".\n",
      "230101-16:45:42,878 nipype.workflow INFO:\n",
      "\t [Node] Cached \"datagrab.timeslicing\" - collecting precomputed outputs\n",
      "230101-16:45:42,878 nipype.workflow INFO:\n",
      "\t [Node] \"datagrab.timeslicing\" found cached.\n",
      "230101-16:45:42,879 nipype.workflow INFO:\n",
      "\t [Node] Setting-up \"datagrab.coregister\" in \"/home/chan/Documents/graduate-essay/tmp/datagrab/_run_1_subject_id_08/coregister\".\n",
      "230101-16:45:42,881 nipype.workflow INFO:\n",
      "\t [Node] Outdated cache found for \"datagrab.coregister\".\n",
      "230101-16:45:42,903 nipype.workflow INFO:\n",
      "\t [Node] Executing \"coregister\" <nipype.interfaces.spm.preprocess.Coregister>\n",
      "230101-16:46:07,685 nipype.workflow INFO:\n",
      "\t [Node] Finished \"coregister\", elapsed time 24.779172s.\n",
      "230101-16:46:07,690 nipype.workflow INFO:\n",
      "\t [Node] Setting-up \"datagrab.timeslicing\" in \"/home/chan/Documents/graduate-essay/tmp/datagrab/_run_2_subject_id_08/timeslicing\".\n",
      "230101-16:46:07,692 nipype.workflow INFO:\n",
      "\t [Node] Cached \"datagrab.timeslicing\" - collecting precomputed outputs\n",
      "230101-16:46:07,692 nipype.workflow INFO:\n",
      "\t [Node] \"datagrab.timeslicing\" found cached.\n",
      "230101-16:46:07,693 nipype.workflow INFO:\n",
      "\t [Node] Setting-up \"datagrab.coregister\" in \"/home/chan/Documents/graduate-essay/tmp/datagrab/_run_2_subject_id_08/coregister\".\n",
      "230101-16:46:07,695 nipype.workflow INFO:\n",
      "\t [Node] Outdated cache found for \"datagrab.coregister\".\n",
      "230101-16:46:07,718 nipype.workflow INFO:\n",
      "\t [Node] Executing \"coregister\" <nipype.interfaces.spm.preprocess.Coregister>\n"
     ]
    },
    {
     "name": "stderr",
     "output_type": "stream",
     "text": [
      "stty: 'standard input': Inappropriate ioctl for device\n"
     ]
    },
    {
     "name": "stdout",
     "output_type": "stream",
     "text": [
      "230101-16:46:30,562 nipype.workflow INFO:\n",
      "\t [Node] Finished \"coregister\", elapsed time 22.841995s.\n",
      "230101-16:46:30,566 nipype.workflow INFO:\n",
      "\t [Node] Setting-up \"datagrab.segment\" in \"/home/chan/Documents/graduate-essay/tmp/datagrab/_run_1_subject_id_08/segment\".\n",
      "230101-16:46:30,568 nipype.workflow INFO:\n",
      "\t [Node] Outdated cache found for \"datagrab.segment\".\n",
      "230101-16:46:30,573 nipype.workflow INFO:\n",
      "\t [Node] Executing \"segment\" <nipype.interfaces.spm.preprocess.NewSegment>\n"
     ]
    },
    {
     "name": "stderr",
     "output_type": "stream",
     "text": [
      "stty: 'standard input': Inappropriate ioctl for device\n"
     ]
    },
    {
     "name": "stdout",
     "output_type": "stream",
     "text": [
      "230101-16:47:16,343 nipype.workflow INFO:\n",
      "\t [Node] Finished \"segment\", elapsed time 45.769258s.\n",
      "230101-16:47:16,347 nipype.workflow INFO:\n",
      "\t [Node] Setting-up \"datagrab.segment\" in \"/home/chan/Documents/graduate-essay/tmp/datagrab/_run_2_subject_id_08/segment\".\n",
      "230101-16:47:16,349 nipype.workflow INFO:\n",
      "\t [Node] Outdated cache found for \"datagrab.segment\".\n",
      "230101-16:47:16,354 nipype.workflow INFO:\n",
      "\t [Node] Executing \"segment\" <nipype.interfaces.spm.preprocess.NewSegment>\n"
     ]
    },
    {
     "name": "stderr",
     "output_type": "stream",
     "text": [
      "stty: 'standard input': Inappropriate ioctl for device\n"
     ]
    },
    {
     "name": "stdout",
     "output_type": "stream",
     "text": [
      "230101-16:48:02,438 nipype.workflow INFO:\n",
      "\t [Node] Finished \"segment\", elapsed time 46.083433s.\n",
      "230101-16:48:02,441 nipype.workflow INFO:\n",
      "\t [Node] Setting-up \"datagrab.normalize\" in \"/home/chan/Documents/graduate-essay/tmp/datagrab/_run_1_subject_id_08/normalize\".\n",
      "230101-16:48:02,443 nipype.workflow INFO:\n",
      "\t [Node] Outdated cache found for \"datagrab.normalize\".\n",
      "230101-16:48:02,491 nipype.workflow INFO:\n",
      "\t [Node] Executing \"normalize\" <nipype.interfaces.spm.preprocess.Normalize12>\n"
     ]
    },
    {
     "name": "stderr",
     "output_type": "stream",
     "text": [
      "stty: 'standard input': Inappropriate ioctl for device\n"
     ]
    },
    {
     "name": "stdout",
     "output_type": "stream",
     "text": [
      "230101-16:48:37,319 nipype.workflow INFO:\n",
      "\t [Node] Finished \"normalize\", elapsed time 34.826846s.\n",
      "230101-16:48:37,327 nipype.workflow INFO:\n",
      "\t [Node] Setting-up \"datagrab.normalize\" in \"/home/chan/Documents/graduate-essay/tmp/datagrab/_run_2_subject_id_08/normalize\".\n",
      "230101-16:48:37,371 nipype.workflow INFO:\n",
      "\t [Node] Executing \"normalize\" <nipype.interfaces.spm.preprocess.Normalize12>\n"
     ]
    },
    {
     "name": "stderr",
     "output_type": "stream",
     "text": [
      "stty: 'standard input': Inappropriate ioctl for device\n"
     ]
    },
    {
     "name": "stdout",
     "output_type": "stream",
     "text": [
      "230101-16:49:12,209 nipype.workflow INFO:\n",
      "\t [Node] Finished \"normalize\", elapsed time 34.836412s.\n",
      "230101-16:49:12,217 nipype.workflow INFO:\n",
      "\t [Node] Setting-up \"datagrab.smooth\" in \"/home/chan/Documents/graduate-essay/tmp/datagrab/_run_1_subject_id_08/_fwhm_4/smooth\".\n",
      "230101-16:49:12,218 nipype.workflow INFO:\n",
      "\t [Node] Outdated cache found for \"datagrab.smooth\".\n",
      "230101-16:49:12,220 nipype.workflow INFO:\n",
      "\t [Node] Executing \"smooth\" <nipype.interfaces.spm.preprocess.Smooth>\n"
     ]
    },
    {
     "name": "stderr",
     "output_type": "stream",
     "text": [
      "stty: 'standard input': Inappropriate ioctl for device\n"
     ]
    },
    {
     "name": "stdout",
     "output_type": "stream",
     "text": [
      "230101-16:49:38,770 nipype.workflow INFO:\n",
      "\t [Node] Finished \"smooth\", elapsed time 26.548919s.\n",
      "230101-16:49:38,772 nipype.workflow INFO:\n",
      "\t [Node] Setting-up \"datagrab.smooth\" in \"/home/chan/Documents/graduate-essay/tmp/datagrab/_run_2_subject_id_08/_fwhm_4/smooth\".\n",
      "230101-16:49:38,775 nipype.workflow INFO:\n",
      "\t [Node] Executing \"smooth\" <nipype.interfaces.spm.preprocess.Smooth>\n"
     ]
    },
    {
     "name": "stderr",
     "output_type": "stream",
     "text": [
      "stty: 'standard input': Inappropriate ioctl for device\n"
     ]
    },
    {
     "name": "stdout",
     "output_type": "stream",
     "text": [
      "230101-16:50:05,309 nipype.workflow INFO:\n",
      "\t [Node] Finished \"smooth\", elapsed time 26.533389s.\n",
      "230101-16:50:05,311 nipype.workflow INFO:\n",
      "\t [Node] Setting-up \"datagrab.sinker\" in \"/home/chan/Documents/graduate-essay/tmp/datagrab/_run_1_subject_id_08/_fwhm_4/sinker\".\n",
      "230101-16:50:05,313 nipype.workflow INFO:\n",
      "\t [Node] Outdated cache found for \"datagrab.sinker\".\n",
      "230101-16:50:05,315 nipype.workflow INFO:\n",
      "\t [Node] Executing \"sinker\" <nipype.interfaces.io.DataSink>\n",
      "230101-16:50:05,317 nipype.workflow INFO:\n",
      "\t [Node] Finished \"sinker\", elapsed time 0.000454s.\n",
      "230101-16:50:05,318 nipype.workflow INFO:\n",
      "\t [Node] Setting-up \"datagrab.sinker\" in \"/home/chan/Documents/graduate-essay/tmp/datagrab/_run_2_subject_id_08/_fwhm_4/sinker\".\n",
      "230101-16:50:05,321 nipype.workflow INFO:\n",
      "\t [Node] Executing \"sinker\" <nipype.interfaces.io.DataSink>\n",
      "230101-16:50:05,322 nipype.workflow INFO:\n",
      "\t [Node] Finished \"sinker\", elapsed time 0.000363s.\n"
     ]
    },
    {
     "name": "stderr",
     "output_type": "stream",
     "text": [
      "stty: 'standard input': Inappropriate ioctl for device\n"
     ]
    }
   ],
   "source": [
    "workflow = pe.Workflow(name='datagrab', base_dir='tmp')\n",
    "workflow.connect([\n",
    "    (infosource, datasource, [('subject_id', 'subject_id'), ('run', 'run')]),\n",
    "    (datasource, gzFunc, [('func', 'in_file')]),\n",
    "    (datasource, gzAnat, [('anat', 'in_file')]),\n",
    "\n",
    "    (gzFunc, realign, [('out_file', 'in_files')]),\n",
    "    (realign, timeslice, [('realigned_files', 'in_files')]),\n",
    "\n",
    "    (realign, coregister, [('mean_image', 'target')]),\n",
    "    (gzAnat, coregister, [('out_file', 'source')]),\n",
    "\n",
    "    (coregister, segment, [('coregistered_source', 'channel_files')]),\n",
    "\n",
    "    (segment, normalize, [('forward_deformation_field', 'deformation_file')]),\n",
    "    (timeslice, normalize, [('timecorrected_files', 'apply_to_files')]),\n",
    "\n",
    "    (normalize, smooth, [('normalized_files', 'in_files')]),\n",
    "\n",
    "    (smooth, datasink, [('smoothed_files', 'smoothed')]),\n",
    "])\n",
    "results = workflow.run()"
   ]
  },
  {
   "cell_type": "code",
   "execution_count": 29,
   "metadata": {},
   "outputs": [
    {
     "name": "stdout",
     "output_type": "stream",
     "text": [
      "230101-16:43:20,783 nipype.workflow INFO:\n",
      "\t Generated workflow graph: /home/chan/Documents/graduate-essay/tmp/datagrab/graph.png (graph2use=flat, simple_form=True).\n"
     ]
    },
    {
     "data": {
      "text/plain": [
       "'/home/chan/Documents/graduate-essay/tmp/datagrab/graph.png'"
      ]
     },
     "execution_count": 29,
     "metadata": {},
     "output_type": "execute_result"
    }
   ],
   "source": [
    "workflow.write_graph(graph2use='flat')"
   ]
  },
  {
   "cell_type": "code",
   "execution_count": 1,
   "metadata": {},
   "outputs": [
    {
     "data": {
      "text/plain": [
       "{'ref_file': '/home/chan/Documents/graduate-essay/fsl/std/MNI152_T1_2mm_brain.nii',\n",
       " 'in_file': '/home/chan/Documents/graduate-essay/processed/smoothed/_run_1_subject_id_08/_fwhm_4/swarsub-08_task-flanker_run-1_bold.nii',\n",
       " 'affine_file': '/home/chan/Documents/graduate-essay/multi_atlas/inv_nl_register/_fwhm_4_run_1_subject_id_08/flirt_aff/swarsub-08_task-flanker_run-1_bold_flirt.mat',\n",
       " 'fieldcoeff_file': True,\n",
       " 'warped_file': 'warped',\n",
       " 'output_type': 'NIFTI_GZ',\n",
       " 'environ': {'FSLOUTPUTTYPE': 'NIFTI_GZ'}}"
      ]
     },
     "execution_count": 1,
     "metadata": {},
     "output_type": "execute_result"
    }
   ],
   "source": [
    "from nipype.utils.filemanip import loadpkl\n",
    "\n",
    "res = loadpkl('./multi_atlas/inv_nl_register/_fwhm_4_run_1_subject_id_08/fnirt/_inputs.pklz')\n",
    "res"
   ]
  },
  {
   "cell_type": "code",
   "execution_count": null,
   "metadata": {},
   "outputs": [],
   "source": [
    "res = loadpkl('./multi_atlas/inv_nl_register/_fwhm_4_run_1_subject_id_08/fnirt/_node.pklz')\n",
    "res"
   ]
  }
 ],
 "metadata": {
  "kernelspec": {
   "display_name": "fmri",
   "language": "python",
   "name": "python3"
  },
  "language_info": {
   "codemirror_mode": {
    "name": "ipython",
    "version": 3
   },
   "file_extension": ".py",
   "mimetype": "text/x-python",
   "name": "python",
   "nbconvert_exporter": "python",
   "pygments_lexer": "ipython3",
   "version": "3.10.8"
  },
  "orig_nbformat": 4,
  "vscode": {
   "interpreter": {
    "hash": "e3cfaa01043161ac38172d57b26f675b23f5ae6200effddf768268116a3c1168"
   }
  }
 },
 "nbformat": 4,
 "nbformat_minor": 2
}
